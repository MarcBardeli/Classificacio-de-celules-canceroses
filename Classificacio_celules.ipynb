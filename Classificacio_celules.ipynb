{
  "cells": [
    {
      "cell_type": "markdown",
      "id": "8c54619e-2f0f-4db2-9c2d-ac850c55ba2a",
      "metadata": {
        "id": "8c54619e-2f0f-4db2-9c2d-ac850c55ba2a"
      },
      "source": [
        "# CLASSIFICADOR DE CEL·LULES CANCERIGENES BENIGNES / MALIGNES\n",
        "\n",
        "## IMPORTS NECESSARIS\n"
      ]
    },
    {
      "cell_type": "code",
      "execution_count": null,
      "id": "81620763-5327-457f-bf92-c4c5c4778e45",
      "metadata": {
        "id": "81620763-5327-457f-bf92-c4c5c4778e45"
      },
      "outputs": [],
      "source": [
        "\n",
        "from imutils import paths\n",
        "import os\n",
        "import numpy as np\n",
        "import random\n",
        "import pandas as pd\n",
        "import matplotlib.pyplot as plt\n",
        "import cv2\n",
        "from PIL import Image\n",
        "import time\n",
        "from skimage import io,color,exposure\n",
        "from sklearn.model_selection import train_test_split\n"
      ]
    },
    {
      "cell_type": "markdown",
      "id": "dd318834-22d3-4083-a37c-5872982a622b",
      "metadata": {
        "id": "dd318834-22d3-4083-a37c-5872982a622b"
      },
      "source": [
        "## Carregar imatges"
      ]
    },
    {
      "cell_type": "code",
      "execution_count": null,
      "id": "8bf64e97-cd4e-4872-9873-ae37dd68793d",
      "metadata": {
        "colab": {
          "base_uri": "https://localhost:8080/"
        },
        "id": "8bf64e97-cd4e-4872-9873-ae37dd68793d",
        "outputId": "18b49825-b70d-462c-9d28-ec5bb495ea96"
      },
      "outputs": [
        {
          "output_type": "stream",
          "name": "stdout",
          "text": [
            "Numero de samples de cada carpeta:\n",
            "Benignes:  512\n",
            "ProB:  672\n",
            "PreB:  742\n",
            "early_PreB 630\n"
          ]
        }
      ],
      "source": [
        "def llegir_imatges(ruta):\n",
        "    '''\n",
        "    ruta = ruta de cada carpeta on estan colocades les imatges\n",
        "    return = array numpy amb totes les imatges de la carpeta\n",
        "    Comentat hi ha la opció de fer-ho en arrays de numpy, no se si serà necessari per optimitzar temps\n",
        "    '''\n",
        "    carpeta = os.listdir(ruta)\n",
        "    llista = []\n",
        "    for imatge in carpeta:\n",
        "        ruta_imatge = os.path.join(ruta,imatge)\n",
        "        img = Image.open(ruta_imatge)\n",
        "        llista.append(img)\n",
        "    return llista\n",
        "\n",
        "def llegir_imatges_mal(ruta):\n",
        "    '''\n",
        "    ruta = ruta de cada carpeta on estan colocades les imatges\n",
        "    return = array numpy amb totes les imatges de la carpeta\n",
        "    Comentat hi ha la opció de fer-ho en arrays de numpy, no se si serà necessari per optimitzar temps\n",
        "    '''\n",
        "    carpeta = os.listdir(ruta)\n",
        "    llista = []\n",
        "    for imatge in carpeta:\n",
        "        ruta_imatge = os.path.join(ruta,imatge)\n",
        "        img = Image.open(ruta_imatge)\n",
        "        llista.append(img)\n",
        "    return llista[:200]\n",
        "\n",
        "ruta_cel_benignes = \"./Benign/\"\n",
        "ruta_cel_malignes_ProB = \"./[Malignant] Pro-B/\"\n",
        "ruta_cel_malignes_PreB = \"./[Malignant] Pre-B/\"\n",
        "ruta_cel_malignes_early_PreB = \"./[Malignant] early Pre-B/\"\n",
        "\n",
        "benignes = llegir_imatges(ruta_cel_benignes)\n",
        "proB = llegir_imatges(ruta_cel_malignes_ProB)\n",
        "preB = llegir_imatges(ruta_cel_malignes_PreB)\n",
        "early_preB = llegir_imatges(ruta_cel_malignes_early_PreB)\n",
        "\n",
        "print(\"Numero de samples de cada carpeta:\")\n",
        "print(\"Benignes: \", len(benignes))\n",
        "print(\"ProB: \", len(proB))\n",
        "print(\"PreB: \", len(preB))\n",
        "print(\"early_PreB\", len(early_preB))"
      ]
    },
    {
      "cell_type": "code",
      "execution_count": null,
      "id": "36efc5be",
      "metadata": {
        "id": "36efc5be"
      },
      "outputs": [],
      "source": []
    },
    {
      "cell_type": "markdown",
      "id": "fc6248c2-bd6f-4b44-98a2-c8d02457791d",
      "metadata": {
        "id": "fc6248c2-bd6f-4b44-98a2-c8d02457791d"
      },
      "source": [
        "### S'haurà de fer un tractament de dades, hi ha moltes menys benignes que de qualsevol altre tipus"
      ]
    },
    {
      "cell_type": "markdown",
      "id": "909e8503-694b-4c98-810c-18838d51cf56",
      "metadata": {
        "id": "909e8503-694b-4c98-810c-18838d51cf56"
      },
      "source": [
        "#### Etiqueto i barrejo les imatges per tal de poder fer els diferents conjunts d'entrenament, de moment com que benignes es el que menys imatges té, posare tante imatges com benignes tinc de cada carpeta"
      ]
    },
    {
      "cell_type": "code",
      "execution_count": null,
      "id": "a87a0630-4e99-46bf-94cf-ae74565d1dea",
      "metadata": {
        "colab": {
          "base_uri": "https://localhost:8080/"
        },
        "id": "a87a0630-4e99-46bf-94cf-ae74565d1dea",
        "outputId": "e2592db7-122b-424e-f407-04c1deca05d3"
      },
      "outputs": [
        {
          "output_type": "stream",
          "name": "stdout",
          "text": [
            "ben\n",
            "ben\n",
            "ben\n",
            "ben\n",
            "1112\n"
          ]
        }
      ],
      "source": [
        "llista_etiquetades = []\n",
        "\n",
        "for i in range(len(benignes)):\n",
        "    llista_etiquetades.append([benignes[i],'ben'])\n",
        "\n",
        "for i in range(200):\n",
        "    llista_etiquetades.append([proB[i],'mal'])\n",
        "    llista_etiquetades.append([preB[i],'mal'])\n",
        "    llista_etiquetades.append([early_preB[i],'mal'])\n",
        "\n",
        "for i in range(4):\n",
        "  print(llista_etiquetades[i][-1])\n",
        "print(len(llista_etiquetades))\n",
        "\n",
        "random.shuffle(llista_etiquetades)\n",
        "\n"
      ]
    },
    {
      "cell_type": "markdown",
      "id": "f21f48fc-bbb4-4646-9eec-eb1acec43316",
      "metadata": {
        "id": "f21f48fc-bbb4-4646-9eec-eb1acec43316"
      },
      "source": [
        "### Separem la llista de imatges i etiquetes i les posem en 2 dataframes, un sera pel test i l'altre pel train"
      ]
    },
    {
      "cell_type": "code",
      "execution_count": null,
      "id": "dccfd1d9-37b3-48fb-9e2f-3f2db573ae14",
      "metadata": {
        "colab": {
          "base_uri": "https://localhost:8080/"
        },
        "id": "dccfd1d9-37b3-48fb-9e2f-3f2db573ae14",
        "outputId": "361922a6-71e8-4adc-f123-210ac4a80ea5"
      },
      "outputs": [
        {
          "output_type": "stream",
          "name": "stdout",
          "text": [
            "Number of training samples: 889\n",
            "Number of testing samples: 223\n",
            "Example training sample path: <PIL.JpegImagePlugin.JpegImageFile image mode=RGB size=1024x768 at 0x7944258D0850>\n",
            "Example training sample label: ben\n",
            "(223, 2)\n"
          ]
        }
      ],
      "source": [
        "paths, labels = zip(*llista_etiquetades)\n",
        "\n",
        "train_paths, test_paths, train_labels, test_labels = train_test_split(paths, labels, test_size=0.2, random_state=42)\n",
        "\n",
        "train = pd.DataFrame({'Path': train_paths, 'Label': train_labels})\n",
        "test = pd.DataFrame({'Path': test_paths, 'Label': test_labels})\n",
        "\n",
        "print(\"Number of training samples:\", len(train))\n",
        "print(\"Number of testing samples:\", len(test))\n",
        "\n",
        "print(\"Example training sample path:\", train.iloc[0]['Path'])\n",
        "print(\"Example training sample label:\", train.iloc[0]['Label'])\n",
        "\n",
        "\n",
        "print(test.shape)"
      ]
    },
    {
      "cell_type": "code",
      "source": [
        "import pickle\n",
        "def save_features_labels(features, labels, filename):\n",
        "    with open(filename, 'wb') as f:\n",
        "        pickle.dump((features, labels), f)\n",
        "\n",
        "def load_features_labels(filename):\n",
        "    with open(filename, 'rb') as f:\n",
        "        return pickle.load(f)\n",
        "\n",
        "train_features, train_labels = load_features_labels('train_features_labels_lbp_bi_train.pkl')\n",
        "\n",
        "test_features, test_labels = load_features_labels('test_features_labels_lbp_bi_test.pkl')"
      ],
      "metadata": {
        "id": "JrDSqDgaOVUa"
      },
      "id": "JrDSqDgaOVUa",
      "execution_count": null,
      "outputs": []
    },
    {
      "cell_type": "markdown",
      "id": "a9ee2937-c08d-4abb-be02-97fedc3dae5d",
      "metadata": {
        "id": "a9ee2937-c08d-4abb-be02-97fedc3dae5d"
      },
      "source": [
        "##### Aqui tenim els primers classificadors implementats, son classificadors més simples i no s'obtenen uns resultats lo suficientment precissos com per considerarlo adequat  al reconeixement de celules beninges o malignes."
      ]
    },
    {
      "cell_type": "code",
      "execution_count": null,
      "id": "IQ0zrfO1vLGd",
      "metadata": {
        "colab": {
          "base_uri": "https://localhost:8080/"
        },
        "id": "IQ0zrfO1vLGd",
        "outputId": "a04f8e05-891a-4666-f61b-22b65737eb0a"
      },
      "outputs": [
        {
          "output_type": "stream",
          "name": "stdout",
          "text": [
            "Train Accuracy: 0.6348314606741573\n",
            "Test Accuracy: 0.6233183856502242\n",
            "Test Accuracy with Random Forest: 0.8878923766816144\n",
            "              precision    recall  f1-score   support\n",
            "\n",
            "         ben       0.88      0.84      0.86        91\n",
            "         mal       0.89      0.92      0.91       132\n",
            "\n",
            "    accuracy                           0.89       223\n",
            "   macro avg       0.89      0.88      0.88       223\n",
            "weighted avg       0.89      0.89      0.89       223\n",
            "\n"
          ]
        }
      ],
      "source": [
        "from math import radians\n",
        "import os\n",
        "import numpy as np\n",
        "from skimage import io, color, img_as_ubyte\n",
        "from skimage.feature import local_binary_pattern\n",
        "from sklearn.model_selection import train_test_split\n",
        "from sklearn.svm import SVC\n",
        "from sklearn.ensemble import RandomForestClassifier\n",
        "from sklearn.metrics import accuracy_score\n",
        "import pandas as pd\n",
        "from sklearn.metrics import classification_report\n",
        "# LBP\n",
        "radi = 3\n",
        "n_p = 8 * radi\n",
        "\n",
        "def extract_lbp_features(gray_image):\n",
        "    lbp = local_binary_pattern(gray_image, n_p, radi, method='uniform')\n",
        "    hist, _ = np.histogram(lbp.ravel(), bins=np.arange(0, n_p + 3), range=(0, n_p + 2))\n",
        "    hist = hist.astype(\"float\")\n",
        "    hist /= (hist.sum() + 1e-7)\n",
        "    return hist\n",
        "\n",
        "if len(train_features) == 0 or len(train_labels) == 0:\n",
        "  train_features = []\n",
        "  train_labels = []\n",
        "\n",
        "  for index, row in train.iterrows():\n",
        "      image_path = row['Path'].filename\n",
        "      label = row['Label']\n",
        "      if os.path.exists(image_path):\n",
        "          image = img_as_ubyte(io.imread(image_path))\n",
        "          gray_image = color.rgb2gray(image)\n",
        "          lbp_features = extract_lbp_features(gray_image)\n",
        "          train_features.append(lbp_features)\n",
        "          train_labels.append(label)\n",
        "      else:\n",
        "          print(f\"Image not found at path: {image_path}\")\n",
        "\n",
        "  #prova d'entrenament amb resultat amb només train\n",
        "  train_features = np.array(train_features)\n",
        "  train_labels = np.array(train_labels)\n",
        "X_train, X_test, y_train, y_test = train_test_split(train_features, train_labels, test_size=0.2, random_state=42)\n",
        "\n",
        "# SVC\n",
        "svm_classifier = SVC(kernel='linear')\n",
        "svm_classifier.fit(X_train, y_train)\n",
        "y_pred = svm_classifier.predict(X_test)\n",
        "\n",
        "accuracy = accuracy_score(y_test, y_pred)\n",
        "print(\"Train Accuracy:\", accuracy)\n",
        "\n",
        "#Test\n",
        "if len(train_features) == 0 or len(train_labels) == 0:\n",
        "  test_features = []\n",
        "  test_labels = []\n",
        "\n",
        "  for index, row in test.iterrows():\n",
        "      image_path = row['Path'].filename\n",
        "      label = row['Label']\n",
        "      if os.path.exists(image_path):\n",
        "          image = img_as_ubyte(io.imread(image_path))\n",
        "          gray_image = color.rgb2gray(image)\n",
        "          lbp_features = extract_lbp_features(gray_image)\n",
        "          test_features.append(lbp_features)\n",
        "          test_labels.append(label)\n",
        "      else:\n",
        "          print(\"Error\")\n",
        "\n",
        "\n",
        "test_features = np.array(test_features)\n",
        "test_labels = np.array(test_labels)\n",
        "test_predictions = svm_classifier.predict(test_features)\n",
        "\n",
        "test_accuracy = accuracy_score(test_labels, test_predictions)\n",
        "print(\"Test Accuracy:\", test_accuracy)\n",
        "\n",
        "#RANDOM FOREST\n",
        "# Crear y entrenar el clasificador Random Forest\n",
        "rf_classifier = RandomForestClassifier()\n",
        "rf_classifier.fit(train_features, train_labels)\n",
        "\n",
        "# Realizar predicciones en el conjunto de prueba\n",
        "test_predictions_rf = rf_classifier.predict(test_features)\n",
        "\n",
        "# Calcular y mostrar la precisión del Random Forest\n",
        "test_accuracy_rf = accuracy_score(test_labels, test_predictions_rf)\n",
        "print(\"Test Accuracy with Random Forest:\", test_accuracy_rf)\n",
        "print(classification_report(test_labels, test_predictions_rf))"
      ]
    },
    {
      "cell_type": "code",
      "source": [
        "from sklearn.metrics import confusion_matrix, ConfusionMatrixDisplay\n",
        "cm = confusion_matrix(test_labels, test_predictions_rf, labels=rf_classifier.classes_)\n",
        "disp = ConfusionMatrixDisplay(confusion_matrix=cm, display_labels=rf_classifier.classes_)\n",
        "\n",
        "\n",
        "fig, ax = plt.subplots(figsize=(10, 10))\n",
        "disp.plot(ax=ax)\n",
        "plt.show()"
      ],
      "metadata": {
        "id": "_qNUkIgzJBwv",
        "colab": {
          "base_uri": "https://localhost:8080/",
          "height": 807
        },
        "outputId": "e555105e-773a-40c5-c383-b09a47d26e31"
      },
      "id": "_qNUkIgzJBwv",
      "execution_count": null,
      "outputs": [
        {
          "output_type": "display_data",
          "data": {
            "text/plain": [
              "<Figure size 1000x1000 with 2 Axes>"
            ],
            "image/png": "[encoded data removed]"
          },
          "metadata": {}
        }
      ]
    },
    {
      "cell_type": "code",
      "source": [
        "\n",
        "#save_features_labels(train_features, train_labels, 'train_features_labels_lbp_bi_train.pkl')\n",
        "\n",
        "#save_features_labels(test_features, test_labels, 'test_features_labels_lbp_bi_test.pkl')\n",
        "\n"
      ],
      "metadata": {
        "id": "vj0r9znUJBmZ"
      },
      "id": "vj0r9znUJBmZ",
      "execution_count": null,
      "outputs": []
    },
    {
      "cell_type": "code",
      "source": [
        "train_features, train_labels = load_features_labels('train_features_labels_lbp_multi_train.pkl')\n",
        "\n",
        "\n",
        "test_features, test_labels = load_features_labels('test_features_labels_lbp_multi_test.pkl')"
      ],
      "metadata": {
        "id": "yNyeYMSiMW9V"
      },
      "id": "yNyeYMSiMW9V",
      "execution_count": null,
      "outputs": []
    },
    {
      "cell_type": "code",
      "source": [
        "llista_etiquetades = []\n",
        "\n",
        "for i in range(len(benignes)):\n",
        "    llista_etiquetades.append([benignes[i],'ben'])\n",
        "\n",
        "for i in range(len(benignes)):\n",
        "    llista_etiquetades.append([proB[i],'proB'])\n",
        "    llista_etiquetades.append([preB[i],'preB'])\n",
        "    llista_etiquetades.append([early_preB[i],'early_preB'])\n",
        "\n",
        "for i in range(4):\n",
        "  print(llista_etiquetades[i][-1])\n",
        "print(len(llista_etiquetades))\n",
        "\n",
        "random.shuffle(llista_etiquetades)\n",
        "\n",
        "paths, labels = zip(*llista_etiquetades)\n",
        "\n",
        "train_paths, test_paths, train_labels, test_labels = train_test_split(paths, labels, test_size=0.2, random_state=42)\n",
        "\n",
        "train = pd.DataFrame({'Path': train_paths, 'Label': train_labels})\n",
        "test = pd.DataFrame({'Path': test_paths, 'Label': test_labels})\n",
        "\n",
        "print(\"Number of training samples:\", len(train))\n",
        "print(\"Number of testing samples:\", len(test))\n",
        "\n",
        "print(\"Example training sample path:\", train.iloc[0]['Path'])\n",
        "print(\"Example training sample label:\", train.iloc[0]['Label'])\n",
        "\n",
        "print(test.shape)"
      ],
      "metadata": {
        "id": "NLNsM-xnSQXo"
      },
      "id": "NLNsM-xnSQXo",
      "execution_count": null,
      "outputs": []
    },
    {
      "cell_type": "markdown",
      "id": "df70e890-80a9-421a-93c6-d5d166f1a990",
      "metadata": {
        "id": "df70e890-80a9-421a-93c6-d5d166f1a990"
      },
      "source": [
        "#### Ara repetirem els mateixos classificadors més simples pero amb una classificació multiclasse per veure com es comporten."
      ]
    },
    {
      "cell_type": "code",
      "execution_count": null,
      "id": "26b41d9b-1ca8-443b-a41e-d1ce39d31721",
      "metadata": {
        "id": "26b41d9b-1ca8-443b-a41e-d1ce39d31721",
        "outputId": "8d4ff9f5-dfe6-47ba-8d10-e28de1072e1c",
        "colab": {
          "base_uri": "https://localhost:8080/"
        }
      },
      "outputs": [
        {
          "output_type": "stream",
          "name": "stdout",
          "text": [
            "Train Accuracy: 0.21341463414634146\n",
            "Test Accuracy: 0.24146341463414633\n",
            "Test Accuracy with Random Forest: 0.28780487804878047\n",
            "              precision    recall  f1-score   support\n",
            "\n",
            "         ben       0.27      0.24      0.26       103\n",
            "  early_preB       0.28      0.29      0.29        99\n",
            "        preB       0.32      0.30      0.31       117\n",
            "        proB       0.27      0.32      0.29        91\n",
            "\n",
            "    accuracy                           0.29       410\n",
            "   macro avg       0.29      0.29      0.29       410\n",
            "weighted avg       0.29      0.29      0.29       410\n",
            "\n"
          ]
        }
      ],
      "source": [
        "\n",
        "if len(train_features) == 0 or len(train_labels) == 0:\n",
        "  train_features = []\n",
        "  train_labels = []\n",
        "\n",
        "  for index, row in train.iterrows():\n",
        "      image_path = row['Path'].filename\n",
        "      label = row['Label']\n",
        "      if os.path.exists(image_path):\n",
        "          image = img_as_ubyte(io.imread(image_path))\n",
        "          gray_image = color.rgb2gray(image)\n",
        "          lbp_features = extract_lbp_features(gray_image)\n",
        "          train_features.append(lbp_features)\n",
        "          train_labels.append(label)\n",
        "      else:\n",
        "          print(f\"Image not found at path: {image_path}\")\n",
        "\n",
        "#prova d'entrenament amb resultat amb només train\n",
        "train_features = np.array(train_features)\n",
        "train_labels = np.array(train_labels)\n",
        "X_train, X_test, y_train, y_test = train_test_split(train_features, train_labels, test_size=0.2, random_state=42)\n",
        "\n",
        "# SVC\n",
        "svm_classifier = SVC(kernel='linear')\n",
        "svm_classifier.fit(X_train, y_train)\n",
        "y_pred = svm_classifier.predict(X_test)\n",
        "\n",
        "accuracy = accuracy_score(y_test, y_pred)\n",
        "print(\"Train Accuracy:\", accuracy)\n",
        "\n",
        "#Test\n",
        "if len(test_features) == 0 or len(test_labels) == 0:\n",
        "  test_features = []\n",
        "  test_labels = []\n",
        "\n",
        "  for index, row in test.iterrows():\n",
        "      image_path = row['Path'].filename\n",
        "      label = row['Label']\n",
        "      if os.path.exists(image_path):\n",
        "          image = img_as_ubyte(io.imread(image_path))\n",
        "          gray_image = color.rgb2gray(image)\n",
        "          lbp_features = extract_lbp_features(gray_image)\n",
        "          test_features.append(lbp_features)\n",
        "          test_labels.append(label)\n",
        "      else:\n",
        "          print(\"Error\")\n",
        "\n",
        "\n",
        "test_features = np.array(test_features)\n",
        "test_labels = np.array(test_labels)\n",
        "test_predictions = svm_classifier.predict(test_features)\n",
        "\n",
        "test_accuracy = accuracy_score(test_labels, test_predictions)\n",
        "print(\"Test Accuracy:\", test_accuracy)\n",
        "\n",
        "#RANDOM FOREST\n",
        "# Crear y entrenar el clasificador Random Forest\n",
        "rf_classifier = RandomForestClassifier()\n",
        "rf_classifier.fit(train_features, train_labels)\n",
        "\n",
        "# Realizar predicciones en el conjunto de prueba\n",
        "test_predictions_rf = rf_classifier.predict(test_features)\n",
        "\n",
        "# Calcular y mostrar la precisión del Random Forest\n",
        "test_accuracy_rf = accuracy_score(test_labels, test_predictions_rf)\n",
        "print(\"Test Accuracy with Random Forest:\", test_accuracy_rf)\n",
        "print(classification_report(test_labels, test_predictions_rf))"
      ]
    },
    {
      "cell_type": "code",
      "source": [
        "from sklearn.metrics import confusion_matrix, ConfusionMatrixDisplay\n",
        "cm = confusion_matrix(test_labels, test_predictions_rf, labels=rf_classifier.classes_)\n",
        "disp = ConfusionMatrixDisplay(confusion_matrix=cm, display_labels=rf_classifier.classes_)\n",
        "\n",
        "\n",
        "fig, ax = plt.subplots(figsize=(10, 10))\n",
        "disp.plot(ax=ax)\n",
        "plt.show()"
      ],
      "metadata": {
        "id": "ghqGyCRRJ7o4",
        "colab": {
          "base_uri": "https://localhost:8080/",
          "height": 807
        },
        "outputId": "0f871cff-68ce-4dad-e93a-9ff701fbc313"
      },
      "id": "ghqGyCRRJ7o4",
      "execution_count": null,
      "outputs": [
        {
          "output_type": "display_data",
          "data": {
            "text/plain": [
              "<Figure size 1000x1000 with 2 Axes>"
            ],
            "image/png": "[encoded data removed]"
          },
          "metadata": {}
        }
      ]
    },
    {
      "cell_type": "code",
      "source": [
        "\n",
        "\n",
        "\n",
        "#save_features_labels(train_features, train_labels, 'train_features_labels_lbp_multi_train.pkl')\n",
        "\n",
        "\n",
        "\n",
        "\n",
        "#save_features_labels(test_features, test_labels, 'test_features_labels_lbp_multi_test.pkl')\n",
        "\n"
      ],
      "metadata": {
        "id": "4sorqkcKDSAR"
      },
      "id": "4sorqkcKDSAR",
      "execution_count": null,
      "outputs": []
    },
    {
      "cell_type": "code",
      "source": [
        "\n",
        "train_features, train_labels = load_features_labels('train_features_labels_hog_train.pkl')\n",
        "\n",
        "\n",
        "test_features, test_labels = load_features_labels('test_features_labels_hog_test.pkl')"
      ],
      "metadata": {
        "id": "7UOwTmnfJF7W"
      },
      "id": "7UOwTmnfJF7W",
      "execution_count": null,
      "outputs": []
    },
    {
      "cell_type": "code",
      "source": [
        "import os\n",
        "import numpy as np\n",
        "import pandas as pd\n",
        "from skimage import io, color\n",
        "from skimage.util import img_as_ubyte\n",
        "from skimage.transform import resize\n",
        "from skimage.feature import hog\n",
        "from sklearn.metrics import classification_report\n",
        "from sklearn.preprocessing import LabelEncoder\n",
        "\n",
        "def calculate_hog_features(image):\n",
        "\n",
        "    if len(image.shape) == 2 or image.shape[2] == 1:\n",
        "        # Imagen en escala de grises\n",
        "        image = resize(image, (128, 64))\n",
        "        fd = hog(image, orientations=9, pixels_per_cell=(8, 8),\n",
        "                 cells_per_block=(2, 2), visualize=False, channel_axis=None)\n",
        "    else:\n",
        "        # Imagen a color\n",
        "        image = resize(image, (128, 64))\n",
        "        fd = hog(image, orientations=9, pixels_per_cell=(8, 8),\n",
        "                 cells_per_block=(2, 2), visualize=False, channel_axis=-1)\n",
        "    return fd\n",
        "\n",
        "\n",
        "if len(train_features) == 0 or len(train_labels) == 0:\n",
        "  train_features = []\n",
        "  train_labels = []\n",
        "\n",
        "\n",
        "  for index, row in train.iterrows():\n",
        "      image_path = row['Path'].filename\n",
        "      label = row['Label']\n",
        "      if os.path.exists(image_path):\n",
        "          image = img_as_ubyte(io.imread(image_path))\n",
        "\n",
        "          hog_features = calculate_hog_features(image)\n",
        "          train_features.append(hog_features)\n",
        "          train_labels.append(label)\n",
        "      else:\n",
        "          print(f\"Image not found at path: {image_path}\")\n",
        "\n",
        "\n",
        "train_features = np.array(train_features)\n",
        "train_labels = np.array(train_labels)\n",
        "\n",
        "\n",
        "\n",
        "\n",
        "svm_classifier = SVC(kernel='linear')\n",
        "svm_classifier.fit(train_features, train_labels)\n",
        "y_pred = svm_classifier.predict(train_features)\n",
        "\n",
        "train_accuracy = accuracy_score(train_labels, y_pred)\n",
        "print(\"Train Accuracy:\", train_accuracy)\n",
        "\n",
        "\n",
        "if len(test_features) == 0 or len(test_labels) == 0:\n",
        "  test_features = []\n",
        "  test_labels = []\n",
        "\n",
        "\n",
        "  for index, row in test.iterrows():\n",
        "      image_path = row['Path'].filename\n",
        "      label = row['Label']\n",
        "      if os.path.exists(image_path):\n",
        "          image = img_as_ubyte(io.imread(image_path))\n",
        "\n",
        "          hog_features = calculate_hog_features(image)\n",
        "          test_features.append(hog_features)\n",
        "          test_labels.append(label)\n",
        "      else:\n",
        "          print(f\"Image not found at path: {image_path}\")\n",
        "\n",
        "\n",
        "test_features = np.array(test_features)\n",
        "test_labels = np.array(test_labels)\n",
        "\n",
        "\n",
        "y_pred = svm_classifier.predict(test_features)\n",
        "\n",
        "test_accuracy = accuracy_score(test_labels, y_pred)\n",
        "print(\"Test Accuracy:\", test_accuracy)\n",
        "\n",
        "#RANDOM FOREST\n",
        "# Crear y entrenar el clasificador Random Forest\n",
        "rf_classifier = RandomForestClassifier()\n",
        "rf_classifier.fit(train_features, train_labels)\n",
        "\n",
        "# Realizar predicciones en el conjunto de prueba\n",
        "test_predictions_rf = rf_classifier.predict(test_features)\n",
        "\n",
        "# Calcular y mostrar la precisión del Random Forest\n",
        "test_accuracy_rf = accuracy_score(test_labels, test_predictions_rf)\n",
        "print(\"Test Accuracy with Random Forest:\", test_accuracy_rf)\n",
        "print(classification_report(test_labels, test_predictions_rf))"
      ],
      "metadata": {
        "colab": {
          "base_uri": "https://localhost:8080/"
        },
        "id": "pbmAX9rYDbLm",
        "outputId": "3a2d200e-647d-4392-e127-5e8d48376f64"
      },
      "id": "pbmAX9rYDbLm",
      "execution_count": null,
      "outputs": [
        {
          "output_type": "stream",
          "name": "stdout",
          "text": [
            "Train Accuracy: 1.0\n",
            "Test Accuracy: 0.526829268292683\n",
            "              precision    recall  f1-score   support\n",
            "\n",
            "         ben       0.37      0.48      0.42        97\n",
            "  early_preB       0.62      0.55      0.58       103\n",
            "        preB       0.59      0.49      0.53       113\n",
            "        proB       0.58      0.59      0.58        97\n",
            "\n",
            "    accuracy                           0.53       410\n",
            "   macro avg       0.54      0.53      0.53       410\n",
            "weighted avg       0.54      0.53      0.53       410\n",
            "\n"
          ]
        }
      ]
    },
    {
      "cell_type": "code",
      "source": [
        "from sklearn.metrics import confusion_matrix, ConfusionMatrixDisplay\n",
        "cm = confusion_matrix(test_labels, test_predictions_rf, labels=rf_classifier.classes_)\n",
        "disp = ConfusionMatrixDisplay(confusion_matrix=cm, display_labels=rf_classifier.classes_)\n",
        "\n",
        "\n",
        "fig, ax = plt.subplots(figsize=(10, 10))\n",
        "disp.plot(ax=ax)\n",
        "plt.show()"
      ],
      "metadata": {
        "colab": {
          "base_uri": "https://localhost:8080/",
          "height": 807
        },
        "id": "zNHRu-ejDbB0",
        "outputId": "f2a9d59c-9dc1-4a95-f8a6-7966635ccda0"
      },
      "id": "zNHRu-ejDbB0",
      "execution_count": null,
      "outputs": [
        {
          "output_type": "display_data",
          "data": {
            "text/plain": [
              "<Figure size 1000x1000 with 2 Axes>"
            ],
            "image/png": "[encoded data removed]"
          },
          "metadata": {}
        }
      ]
    },
    {
      "cell_type": "code",
      "source": [
        "\n",
        "#save_features_labels(train_features, train_labels, 'train_features_labels_hog_train.pkl')\n",
        "\n",
        "\n",
        "\n",
        "#save_features_labels(test_features, test_labels, 'test_features_labels_hog_test.pkl')\n",
        "\n"
      ],
      "metadata": {
        "id": "E0QygIiGJ7is"
      },
      "id": "E0QygIiGJ7is",
      "execution_count": null,
      "outputs": []
    },
    {
      "cell_type": "markdown",
      "id": "7b8495ff-e350-459d-b78c-c88fdeb14b42",
      "metadata": {
        "id": "7b8495ff-e350-459d-b78c-c88fdeb14b42"
      },
      "source": [
        "### Aqui tenim implementat el CNN, es fa no només la classificació entre benignes i malignes si no que tambe mirem quin tipus de malignes son, aquest algorisme si es pot consedirar eficient per a aquest tipus de problemes"
      ]
    },
    {
      "cell_type": "markdown",
      "id": "b0cac11e-e951-482f-91e9-fc7f9c28779a",
      "metadata": {
        "id": "b0cac11e-e951-482f-91e9-fc7f9c28779a"
      },
      "source": [
        "#### Aquesta primera part carrega les imatges binaritzant-les per tal de detectar les celules cancerigenes i s'etiqueten"
      ]
    },
    {
      "cell_type": "code",
      "execution_count": null,
      "id": "eCTrFqFAuPZf",
      "metadata": {
        "id": "eCTrFqFAuPZf"
      },
      "outputs": [],
      "source": [
        "import os\n",
        "import numpy as np\n",
        "import tensorflow\n",
        "from tensorflow import keras\n",
        "from keras.models import Sequential\n",
        "from keras.layers import Conv2D, MaxPooling2D, Flatten, Dense, Dropout\n",
        "from keras.utils import to_categorical\n",
        "from keras.preprocessing.image import img_to_array, load_img\n",
        "from sklearn.model_selection import train_test_split\n",
        "from sklearn.preprocessing import LabelEncoder\n",
        "\n",
        "def prepare_images(image_list, size=(64, 64)):\n",
        "    processed_images = []\n",
        "    for img in image_list:\n",
        "        img = img.resize(size)\n",
        "        img_array = np.array(img)\n",
        "        if img_array.shape == (size[0], size[1], 3):\n",
        "            processed_images.append(img_array / 255.0)\n",
        "    return np.array(processed_images)\n",
        "\n",
        "\n",
        "benignes = prepare_images(llegir_imatges(ruta_cel_benignes))\n",
        "proB = prepare_images(llegir_imatges(ruta_cel_malignes_ProB))\n",
        "preB = prepare_images(llegir_imatges(ruta_cel_malignes_PreB))\n",
        "early_preB = prepare_images(llegir_imatges(ruta_cel_malignes_early_PreB))\n",
        "\n",
        "images = np.concatenate([benignes, proB, preB, early_preB])\n",
        "\n",
        "labels = ['benign'] * len(benignes) + ['proB'] * len(proB) + ['preB'] * len(preB) + ['early_preB'] * len(early_preB)\n",
        "\n",
        "\n",
        "label_encoder = LabelEncoder()\n",
        "labels_encoded = label_encoder.fit_transform(labels)\n",
        "labels_categorical = to_categorical(labels_encoded)\n",
        "train_images, test_images, train_labels, test_labels = train_test_split(\n",
        "    images, labels_categorical, test_size=0.2, random_state=42)\n",
        "\n",
        "image_size = (64, 64)  # == prepare_images\n",
        "num_classes = labels_categorical.shape[1]"
      ]
    },
    {
      "cell_type": "markdown",
      "id": "75354379-9d45-4f4f-8f59-4af50bf10ed6",
      "metadata": {
        "id": "75354379-9d45-4f4f-8f59-4af50bf10ed6"
      },
      "source": [
        "#### Definim la xarxa neuronal, la compilem i evaluem els resultats obtinguts pel classificador, obtenim les epoques òptimer per realitzar la classificació"
      ]
    },
    {
      "cell_type": "code",
      "execution_count": null,
      "id": "a0211301",
      "metadata": {
        "id": "a0211301",
        "outputId": "252932b4-291e-4a1e-a2d3-6f031271e3c8"
      },
      "outputs": [
        {
          "name": "stderr",
          "output_type": "stream",
          "text": [
            "C:\\Users\\Admin\\OneDrive - UAB\\Escritorio\\Python\\Instalación de python\\Lib\\site-packages\\keras\\src\\layers\\convolutional\\base_conv.py:99: UserWarning: Do not pass an `input_shape`/`input_dim` argument to a layer. When using Sequential models, prefer using an `Input(shape)` object as the first layer in the model instead.\n",
            "  super().__init__(\n"
          ]
        },
        {
          "data": {
            "text/html": [
              "<pre style=\"white-space:pre;overflow-x:auto;line-height:normal;font-family:Menlo,'DejaVu Sans Mono',consolas,'Courier New',monospace\"><span style=\"font-weight: bold\">Model: \"sequential\"</span>\n",
              "</pre>\n"
            ],
            "text/plain": [
              "\u001b[1mModel: \"sequential\"\u001b[0m\n"
            ]
          },
          "metadata": {},
          "output_type": "display_data"
        },
        {
          "data": {
            "text/html": [
              "<pre style=\"white-space:pre;overflow-x:auto;line-height:normal;font-family:Menlo,'DejaVu Sans Mono',consolas,'Courier New',monospace\">┏━━━━━━━━━━━━━━━━━━━━━━━━━━━━━━━━━━━━━━┳━━━━━━━━━━━━━━━━━━━━━━━━━━━━━┳━━━━━━━━━━━━━━━━━┓\n",
              "┃<span style=\"font-weight: bold\"> Layer (type)                         </span>┃<span style=\"font-weight: bold\"> Output Shape                </span>┃<span style=\"font-weight: bold\">         Param # </span>┃\n",
              "┡━━━━━━━━━━━━━━━━━━━━━━━━━━━━━━━━━━━━━━╇━━━━━━━━━━━━━━━━━━━━━━━━━━━━━╇━━━━━━━━━━━━━━━━━┩\n",
              "│ conv2d (<span style=\"color: #0087ff; text-decoration-color: #0087ff\">Conv2D</span>)                      │ (<span style=\"color: #00d7ff; text-decoration-color: #00d7ff\">None</span>, <span style=\"color: #00af00; text-decoration-color: #00af00\">62</span>, <span style=\"color: #00af00; text-decoration-color: #00af00\">62</span>, <span style=\"color: #00af00; text-decoration-color: #00af00\">32</span>)          │             <span style=\"color: #00af00; text-decoration-color: #00af00\">896</span> │\n",
              "├──────────────────────────────────────┼─────────────────────────────┼─────────────────┤\n",
              "│ max_pooling2d (<span style=\"color: #0087ff; text-decoration-color: #0087ff\">MaxPooling2D</span>)         │ (<span style=\"color: #00d7ff; text-decoration-color: #00d7ff\">None</span>, <span style=\"color: #00af00; text-decoration-color: #00af00\">31</span>, <span style=\"color: #00af00; text-decoration-color: #00af00\">31</span>, <span style=\"color: #00af00; text-decoration-color: #00af00\">32</span>)          │               <span style=\"color: #00af00; text-decoration-color: #00af00\">0</span> │\n",
              "├──────────────────────────────────────┼─────────────────────────────┼─────────────────┤\n",
              "│ conv2d_1 (<span style=\"color: #0087ff; text-decoration-color: #0087ff\">Conv2D</span>)                    │ (<span style=\"color: #00d7ff; text-decoration-color: #00d7ff\">None</span>, <span style=\"color: #00af00; text-decoration-color: #00af00\">29</span>, <span style=\"color: #00af00; text-decoration-color: #00af00\">29</span>, <span style=\"color: #00af00; text-decoration-color: #00af00\">64</span>)          │          <span style=\"color: #00af00; text-decoration-color: #00af00\">18,496</span> │\n",
              "├──────────────────────────────────────┼─────────────────────────────┼─────────────────┤\n",
              "│ max_pooling2d_1 (<span style=\"color: #0087ff; text-decoration-color: #0087ff\">MaxPooling2D</span>)       │ (<span style=\"color: #00d7ff; text-decoration-color: #00d7ff\">None</span>, <span style=\"color: #00af00; text-decoration-color: #00af00\">14</span>, <span style=\"color: #00af00; text-decoration-color: #00af00\">14</span>, <span style=\"color: #00af00; text-decoration-color: #00af00\">64</span>)          │               <span style=\"color: #00af00; text-decoration-color: #00af00\">0</span> │\n",
              "├──────────────────────────────────────┼─────────────────────────────┼─────────────────┤\n",
              "│ conv2d_2 (<span style=\"color: #0087ff; text-decoration-color: #0087ff\">Conv2D</span>)                    │ (<span style=\"color: #00d7ff; text-decoration-color: #00d7ff\">None</span>, <span style=\"color: #00af00; text-decoration-color: #00af00\">12</span>, <span style=\"color: #00af00; text-decoration-color: #00af00\">12</span>, <span style=\"color: #00af00; text-decoration-color: #00af00\">128</span>)         │          <span style=\"color: #00af00; text-decoration-color: #00af00\">73,856</span> │\n",
              "├──────────────────────────────────────┼─────────────────────────────┼─────────────────┤\n",
              "│ max_pooling2d_2 (<span style=\"color: #0087ff; text-decoration-color: #0087ff\">MaxPooling2D</span>)       │ (<span style=\"color: #00d7ff; text-decoration-color: #00d7ff\">None</span>, <span style=\"color: #00af00; text-decoration-color: #00af00\">6</span>, <span style=\"color: #00af00; text-decoration-color: #00af00\">6</span>, <span style=\"color: #00af00; text-decoration-color: #00af00\">128</span>)           │               <span style=\"color: #00af00; text-decoration-color: #00af00\">0</span> │\n",
              "├──────────────────────────────────────┼─────────────────────────────┼─────────────────┤\n",
              "│ flatten (<span style=\"color: #0087ff; text-decoration-color: #0087ff\">Flatten</span>)                    │ (<span style=\"color: #00d7ff; text-decoration-color: #00d7ff\">None</span>, <span style=\"color: #00af00; text-decoration-color: #00af00\">4608</span>)                │               <span style=\"color: #00af00; text-decoration-color: #00af00\">0</span> │\n",
              "├──────────────────────────────────────┼─────────────────────────────┼─────────────────┤\n",
              "│ dense (<span style=\"color: #0087ff; text-decoration-color: #0087ff\">Dense</span>)                        │ (<span style=\"color: #00d7ff; text-decoration-color: #00d7ff\">None</span>, <span style=\"color: #00af00; text-decoration-color: #00af00\">128</span>)                 │         <span style=\"color: #00af00; text-decoration-color: #00af00\">589,952</span> │\n",
              "├──────────────────────────────────────┼─────────────────────────────┼─────────────────┤\n",
              "│ dropout (<span style=\"color: #0087ff; text-decoration-color: #0087ff\">Dropout</span>)                    │ (<span style=\"color: #00d7ff; text-decoration-color: #00d7ff\">None</span>, <span style=\"color: #00af00; text-decoration-color: #00af00\">128</span>)                 │               <span style=\"color: #00af00; text-decoration-color: #00af00\">0</span> │\n",
              "├──────────────────────────────────────┼─────────────────────────────┼─────────────────┤\n",
              "│ dense_1 (<span style=\"color: #0087ff; text-decoration-color: #0087ff\">Dense</span>)                      │ (<span style=\"color: #00d7ff; text-decoration-color: #00d7ff\">None</span>, <span style=\"color: #00af00; text-decoration-color: #00af00\">4</span>)                   │             <span style=\"color: #00af00; text-decoration-color: #00af00\">516</span> │\n",
              "└──────────────────────────────────────┴─────────────────────────────┴─────────────────┘\n",
              "</pre>\n"
            ],
            "text/plain": [
              "┏━━━━━━━━━━━━━━━━━━━━━━━━━━━━━━━━━━━━━━┳━━━━━━━━━━━━━━━━━━━━━━━━━━━━━┳━━━━━━━━━━━━━━━━━┓\n",
              "┃\u001b[1m \u001b[0m\u001b[1mLayer (type)                        \u001b[0m\u001b[1m \u001b[0m┃\u001b[1m \u001b[0m\u001b[1mOutput Shape               \u001b[0m\u001b[1m \u001b[0m┃\u001b[1m \u001b[0m\u001b[1m        Param #\u001b[0m\u001b[1m \u001b[0m┃\n",
              "┡━━━━━━━━━━━━━━━━━━━━━━━━━━━━━━━━━━━━━━╇━━━━━━━━━━━━━━━━━━━━━━━━━━━━━╇━━━━━━━━━━━━━━━━━┩\n",
              "│ conv2d (\u001b[38;5;33mConv2D\u001b[0m)                      │ (\u001b[38;5;45mNone\u001b[0m, \u001b[38;5;34m62\u001b[0m, \u001b[38;5;34m62\u001b[0m, \u001b[38;5;34m32\u001b[0m)          │             \u001b[38;5;34m896\u001b[0m │\n",
              "├──────────────────────────────────────┼─────────────────────────────┼─────────────────┤\n",
              "│ max_pooling2d (\u001b[38;5;33mMaxPooling2D\u001b[0m)         │ (\u001b[38;5;45mNone\u001b[0m, \u001b[38;5;34m31\u001b[0m, \u001b[38;5;34m31\u001b[0m, \u001b[38;5;34m32\u001b[0m)          │               \u001b[38;5;34m0\u001b[0m │\n",
              "├──────────────────────────────────────┼─────────────────────────────┼─────────────────┤\n",
              "│ conv2d_1 (\u001b[38;5;33mConv2D\u001b[0m)                    │ (\u001b[38;5;45mNone\u001b[0m, \u001b[38;5;34m29\u001b[0m, \u001b[38;5;34m29\u001b[0m, \u001b[38;5;34m64\u001b[0m)          │          \u001b[38;5;34m18,496\u001b[0m │\n",
              "├──────────────────────────────────────┼─────────────────────────────┼─────────────────┤\n",
              "│ max_pooling2d_1 (\u001b[38;5;33mMaxPooling2D\u001b[0m)       │ (\u001b[38;5;45mNone\u001b[0m, \u001b[38;5;34m14\u001b[0m, \u001b[38;5;34m14\u001b[0m, \u001b[38;5;34m64\u001b[0m)          │               \u001b[38;5;34m0\u001b[0m │\n",
              "├──────────────────────────────────────┼─────────────────────────────┼─────────────────┤\n",
              "│ conv2d_2 (\u001b[38;5;33mConv2D\u001b[0m)                    │ (\u001b[38;5;45mNone\u001b[0m, \u001b[38;5;34m12\u001b[0m, \u001b[38;5;34m12\u001b[0m, \u001b[38;5;34m128\u001b[0m)         │          \u001b[38;5;34m73,856\u001b[0m │\n",
              "├──────────────────────────────────────┼─────────────────────────────┼─────────────────┤\n",
              "│ max_pooling2d_2 (\u001b[38;5;33mMaxPooling2D\u001b[0m)       │ (\u001b[38;5;45mNone\u001b[0m, \u001b[38;5;34m6\u001b[0m, \u001b[38;5;34m6\u001b[0m, \u001b[38;5;34m128\u001b[0m)           │               \u001b[38;5;34m0\u001b[0m │\n",
              "├──────────────────────────────────────┼─────────────────────────────┼─────────────────┤\n",
              "│ flatten (\u001b[38;5;33mFlatten\u001b[0m)                    │ (\u001b[38;5;45mNone\u001b[0m, \u001b[38;5;34m4608\u001b[0m)                │               \u001b[38;5;34m0\u001b[0m │\n",
              "├──────────────────────────────────────┼─────────────────────────────┼─────────────────┤\n",
              "│ dense (\u001b[38;5;33mDense\u001b[0m)                        │ (\u001b[38;5;45mNone\u001b[0m, \u001b[38;5;34m128\u001b[0m)                 │         \u001b[38;5;34m589,952\u001b[0m │\n",
              "├──────────────────────────────────────┼─────────────────────────────┼─────────────────┤\n",
              "│ dropout (\u001b[38;5;33mDropout\u001b[0m)                    │ (\u001b[38;5;45mNone\u001b[0m, \u001b[38;5;34m128\u001b[0m)                 │               \u001b[38;5;34m0\u001b[0m │\n",
              "├──────────────────────────────────────┼─────────────────────────────┼─────────────────┤\n",
              "│ dense_1 (\u001b[38;5;33mDense\u001b[0m)                      │ (\u001b[38;5;45mNone\u001b[0m, \u001b[38;5;34m4\u001b[0m)                   │             \u001b[38;5;34m516\u001b[0m │\n",
              "└──────────────────────────────────────┴─────────────────────────────┴─────────────────┘\n"
            ]
          },
          "metadata": {},
          "output_type": "display_data"
        },
        {
          "data": {
            "text/html": [
              "<pre style=\"white-space:pre;overflow-x:auto;line-height:normal;font-family:Menlo,'DejaVu Sans Mono',consolas,'Courier New',monospace\"><span style=\"font-weight: bold\"> Total params: </span><span style=\"color: #00af00; text-decoration-color: #00af00\">683,716</span> (2.61 MB)\n",
              "</pre>\n"
            ],
            "text/plain": [
              "\u001b[1m Total params: \u001b[0m\u001b[38;5;34m683,716\u001b[0m (2.61 MB)\n"
            ]
          },
          "metadata": {},
          "output_type": "display_data"
        },
        {
          "data": {
            "text/html": [
              "<pre style=\"white-space:pre;overflow-x:auto;line-height:normal;font-family:Menlo,'DejaVu Sans Mono',consolas,'Courier New',monospace\"><span style=\"font-weight: bold\"> Trainable params: </span><span style=\"color: #00af00; text-decoration-color: #00af00\">683,716</span> (2.61 MB)\n",
              "</pre>\n"
            ],
            "text/plain": [
              "\u001b[1m Trainable params: \u001b[0m\u001b[38;5;34m683,716\u001b[0m (2.61 MB)\n"
            ]
          },
          "metadata": {},
          "output_type": "display_data"
        },
        {
          "data": {
            "text/html": [
              "<pre style=\"white-space:pre;overflow-x:auto;line-height:normal;font-family:Menlo,'DejaVu Sans Mono',consolas,'Courier New',monospace\"><span style=\"font-weight: bold\"> Non-trainable params: </span><span style=\"color: #00af00; text-decoration-color: #00af00\">0</span> (0.00 B)\n",
              "</pre>\n"
            ],
            "text/plain": [
              "\u001b[1m Non-trainable params: \u001b[0m\u001b[38;5;34m0\u001b[0m (0.00 B)\n"
            ]
          },
          "metadata": {},
          "output_type": "display_data"
        },
        {
          "name": "stdout",
          "output_type": "stream",
          "text": [
            "Epoch 1/50\n",
            "\u001b[1m65/65\u001b[0m \u001b[32m━━━━━━━━━━━━━━━━━━━━\u001b[0m\u001b[37m\u001b[0m \u001b[1m12s\u001b[0m 95ms/step - accuracy: 0.4231 - loss: 1.2083 - val_accuracy: 0.8131 - val_loss: 0.5738\n",
            "Epoch 2/50\n",
            "\u001b[1m65/65\u001b[0m \u001b[32m━━━━━━━━━━━━━━━━━━━━\u001b[0m\u001b[37m\u001b[0m \u001b[1m6s\u001b[0m 84ms/step - accuracy: 0.7133 - loss: 0.7650 - val_accuracy: 0.7861 - val_loss: 0.5816\n",
            "Epoch 3/50\n",
            "\u001b[1m65/65\u001b[0m \u001b[32m━━━━━━━━━━━━━━━━━━━━\u001b[0m\u001b[37m\u001b[0m \u001b[1m5s\u001b[0m 83ms/step - accuracy: 0.7416 - loss: 0.6974 - val_accuracy: 0.8150 - val_loss: 0.5013\n",
            "Epoch 4/50\n",
            "\u001b[1m65/65\u001b[0m \u001b[32m━━━━━━━━━━━━━━━━━━━━\u001b[0m\u001b[37m\u001b[0m \u001b[1m5s\u001b[0m 81ms/step - accuracy: 0.7545 - loss: 0.6709 - val_accuracy: 0.8304 - val_loss: 0.4882\n",
            "Epoch 5/50\n",
            "\u001b[1m65/65\u001b[0m \u001b[32m━━━━━━━━━━━━━━━━━━━━\u001b[0m\u001b[37m\u001b[0m \u001b[1m5s\u001b[0m 82ms/step - accuracy: 0.7742 - loss: 0.5831 - val_accuracy: 0.8208 - val_loss: 0.4630\n",
            "Epoch 6/50\n",
            "\u001b[1m65/65\u001b[0m \u001b[32m━━━━━━━━━━━━━━━━━━━━\u001b[0m\u001b[37m\u001b[0m \u001b[1m5s\u001b[0m 83ms/step - accuracy: 0.7800 - loss: 0.5636 - val_accuracy: 0.8343 - val_loss: 0.4453\n",
            "Epoch 7/50\n",
            "\u001b[1m65/65\u001b[0m \u001b[32m━━━━━━━━━━━━━━━━━━━━\u001b[0m\u001b[37m\u001b[0m \u001b[1m5s\u001b[0m 82ms/step - accuracy: 0.7699 - loss: 0.5795 - val_accuracy: 0.8131 - val_loss: 0.5156\n",
            "Epoch 8/50\n",
            "\u001b[1m65/65\u001b[0m \u001b[32m━━━━━━━━━━━━━━━━━━━━\u001b[0m\u001b[37m\u001b[0m \u001b[1m5s\u001b[0m 83ms/step - accuracy: 0.7690 - loss: 0.5884 - val_accuracy: 0.8304 - val_loss: 0.4704\n",
            "Epoch 9/50\n",
            "\u001b[1m65/65\u001b[0m \u001b[32m━━━━━━━━━━━━━━━━━━━━\u001b[0m\u001b[37m\u001b[0m \u001b[1m5s\u001b[0m 82ms/step - accuracy: 0.7970 - loss: 0.5581 - val_accuracy: 0.8459 - val_loss: 0.4133\n",
            "Epoch 10/50\n",
            "\u001b[1m65/65\u001b[0m \u001b[32m━━━━━━━━━━━━━━━━━━━━\u001b[0m\u001b[37m\u001b[0m \u001b[1m10s\u001b[0m 83ms/step - accuracy: 0.7939 - loss: 0.5059 - val_accuracy: 0.8439 - val_loss: 0.3978\n",
            "Epoch 11/50\n",
            "\u001b[1m65/65\u001b[0m \u001b[32m━━━━━━━━━━━━━━━━━━━━\u001b[0m\u001b[37m\u001b[0m \u001b[1m6s\u001b[0m 85ms/step - accuracy: 0.8063 - loss: 0.5035 - val_accuracy: 0.8593 - val_loss: 0.3853\n",
            "Epoch 12/50\n",
            "\u001b[1m65/65\u001b[0m \u001b[32m━━━━━━━━━━━━━━━━━━━━\u001b[0m\u001b[37m\u001b[0m \u001b[1m5s\u001b[0m 82ms/step - accuracy: 0.7989 - loss: 0.4943 - val_accuracy: 0.8671 - val_loss: 0.3853\n",
            "Epoch 13/50\n",
            "\u001b[1m65/65\u001b[0m \u001b[32m━━━━━━━━━━━━━━━━━━━━\u001b[0m\u001b[37m\u001b[0m \u001b[1m6s\u001b[0m 84ms/step - accuracy: 0.8054 - loss: 0.4790 - val_accuracy: 0.8632 - val_loss: 0.3702\n",
            "Epoch 14/50\n",
            "\u001b[1m65/65\u001b[0m \u001b[32m━━━━━━━━━━━━━━━━━━━━\u001b[0m\u001b[37m\u001b[0m \u001b[1m6s\u001b[0m 84ms/step - accuracy: 0.8334 - loss: 0.4268 - val_accuracy: 0.8767 - val_loss: 0.3360\n",
            "Epoch 15/50\n",
            "\u001b[1m65/65\u001b[0m \u001b[32m━━━━━━━━━━━━━━━━━━━━\u001b[0m\u001b[37m\u001b[0m \u001b[1m10s\u001b[0m 83ms/step - accuracy: 0.8325 - loss: 0.4031 - val_accuracy: 0.8555 - val_loss: 0.3532\n",
            "Epoch 16/50\n",
            "\u001b[1m65/65\u001b[0m \u001b[32m━━━━━━━━━━━━━━━━━━━━\u001b[0m\u001b[37m\u001b[0m \u001b[1m5s\u001b[0m 76ms/step - accuracy: 0.8299 - loss: 0.4237 - val_accuracy: 0.8767 - val_loss: 0.3304\n",
            "Epoch 17/50\n",
            "\u001b[1m65/65\u001b[0m \u001b[32m━━━━━━━━━━━━━━━━━━━━\u001b[0m\u001b[37m\u001b[0m \u001b[1m5s\u001b[0m 80ms/step - accuracy: 0.8232 - loss: 0.4221 - val_accuracy: 0.8748 - val_loss: 0.3243\n",
            "Epoch 18/50\n",
            "\u001b[1m65/65\u001b[0m \u001b[32m━━━━━━━━━━━━━━━━━━━━\u001b[0m\u001b[37m\u001b[0m \u001b[1m5s\u001b[0m 80ms/step - accuracy: 0.8437 - loss: 0.3689 - val_accuracy: 0.8844 - val_loss: 0.3050\n",
            "Epoch 19/50\n",
            "\u001b[1m65/65\u001b[0m \u001b[32m━━━━━━━━━━━━━━━━━━━━\u001b[0m\u001b[37m\u001b[0m \u001b[1m5s\u001b[0m 83ms/step - accuracy: 0.8526 - loss: 0.3583 - val_accuracy: 0.8805 - val_loss: 0.2968\n",
            "Epoch 20/50\n",
            "\u001b[1m65/65\u001b[0m \u001b[32m━━━━━━━━━━━━━━━━━━━━\u001b[0m\u001b[37m\u001b[0m \u001b[1m5s\u001b[0m 83ms/step - accuracy: 0.8627 - loss: 0.3485 - val_accuracy: 0.8805 - val_loss: 0.3030\n",
            "Epoch 21/50\n",
            "\u001b[1m65/65\u001b[0m \u001b[32m━━━━━━━━━━━━━━━━━━━━\u001b[0m\u001b[37m\u001b[0m \u001b[1m5s\u001b[0m 83ms/step - accuracy: 0.8549 - loss: 0.3165 - val_accuracy: 0.9152 - val_loss: 0.2483\n",
            "Epoch 22/50\n",
            "\u001b[1m65/65\u001b[0m \u001b[32m━━━━━━━━━━━━━━━━━━━━\u001b[0m\u001b[37m\u001b[0m \u001b[1m5s\u001b[0m 83ms/step - accuracy: 0.8903 - loss: 0.2817 - val_accuracy: 0.9056 - val_loss: 0.2657\n",
            "Epoch 23/50\n",
            "\u001b[1m65/65\u001b[0m \u001b[32m━━━━━━━━━━━━━━━━━━━━\u001b[0m\u001b[37m\u001b[0m \u001b[1m5s\u001b[0m 80ms/step - accuracy: 0.8763 - loss: 0.3258 - val_accuracy: 0.9056 - val_loss: 0.2551\n",
            "Epoch 24/50\n",
            "\u001b[1m65/65\u001b[0m \u001b[32m━━━━━━━━━━━━━━━━━━━━\u001b[0m\u001b[37m\u001b[0m \u001b[1m5s\u001b[0m 82ms/step - accuracy: 0.8831 - loss: 0.3019 - val_accuracy: 0.9075 - val_loss: 0.2795\n",
            "Epoch 25/50\n",
            "\u001b[1m65/65\u001b[0m \u001b[32m━━━━━━━━━━━━━━━━━━━━\u001b[0m\u001b[37m\u001b[0m \u001b[1m5s\u001b[0m 82ms/step - accuracy: 0.8965 - loss: 0.2610 - val_accuracy: 0.9037 - val_loss: 0.2423\n",
            "Epoch 26/50\n",
            "\u001b[1m65/65\u001b[0m \u001b[32m━━━━━━━━━━━━━━━━━━━━\u001b[0m\u001b[37m\u001b[0m \u001b[1m5s\u001b[0m 82ms/step - accuracy: 0.9090 - loss: 0.2349 - val_accuracy: 0.9210 - val_loss: 0.2334\n",
            "Epoch 27/50\n",
            "\u001b[1m65/65\u001b[0m \u001b[32m━━━━━━━━━━━━━━━━━━━━\u001b[0m\u001b[37m\u001b[0m \u001b[1m5s\u001b[0m 82ms/step - accuracy: 0.9077 - loss: 0.2504 - val_accuracy: 0.9229 - val_loss: 0.1997\n",
            "Epoch 28/50\n",
            "\u001b[1m65/65\u001b[0m \u001b[32m━━━━━━━━━━━━━━━━━━━━\u001b[0m\u001b[37m\u001b[0m \u001b[1m5s\u001b[0m 81ms/step - accuracy: 0.9392 - loss: 0.1734 - val_accuracy: 0.9364 - val_loss: 0.1861\n",
            "Epoch 29/50\n",
            "\u001b[1m65/65\u001b[0m \u001b[32m━━━━━━━━━━━━━━━━━━━━\u001b[0m\u001b[37m\u001b[0m \u001b[1m5s\u001b[0m 83ms/step - accuracy: 0.9323 - loss: 0.1839 - val_accuracy: 0.9345 - val_loss: 0.1940\n",
            "Epoch 30/50\n",
            "\u001b[1m65/65\u001b[0m \u001b[32m━━━━━━━━━━━━━━━━━━━━\u001b[0m\u001b[37m\u001b[0m \u001b[1m5s\u001b[0m 80ms/step - accuracy: 0.9429 - loss: 0.1721 - val_accuracy: 0.9191 - val_loss: 0.2224\n",
            "Epoch 31/50\n",
            "\u001b[1m65/65\u001b[0m \u001b[32m━━━━━━━━━━━━━━━━━━━━\u001b[0m\u001b[37m\u001b[0m \u001b[1m5s\u001b[0m 80ms/step - accuracy: 0.9370 - loss: 0.1593 - val_accuracy: 0.9287 - val_loss: 0.1919\n",
            "Epoch 32/50\n",
            "\u001b[1m65/65\u001b[0m \u001b[32m━━━━━━━━━━━━━━━━━━━━\u001b[0m\u001b[37m\u001b[0m \u001b[1m5s\u001b[0m 79ms/step - accuracy: 0.9324 - loss: 0.1845 - val_accuracy: 0.9268 - val_loss: 0.1863\n",
            "Epoch 33/50\n",
            "\u001b[1m65/65\u001b[0m \u001b[32m━━━━━━━━━━━━━━━━━━━━\u001b[0m\u001b[37m\u001b[0m \u001b[1m5s\u001b[0m 81ms/step - accuracy: 0.9398 - loss: 0.1540 - val_accuracy: 0.9191 - val_loss: 0.2565\n",
            "Epoch 34/50\n",
            "\u001b[1m65/65\u001b[0m \u001b[32m━━━━━━━━━━━━━━━━━━━━\u001b[0m\u001b[37m\u001b[0m \u001b[1m5s\u001b[0m 82ms/step - accuracy: 0.9472 - loss: 0.1718 - val_accuracy: 0.9268 - val_loss: 0.2055\n",
            "Epoch 35/50\n",
            "\u001b[1m65/65\u001b[0m \u001b[32m━━━━━━━━━━━━━━━━━━━━\u001b[0m\u001b[37m\u001b[0m \u001b[1m5s\u001b[0m 82ms/step - accuracy: 0.9465 - loss: 0.1541 - val_accuracy: 0.9403 - val_loss: 0.1794\n",
            "Epoch 36/50\n",
            "\u001b[1m65/65\u001b[0m \u001b[32m━━━━━━━━━━━━━━━━━━━━\u001b[0m\u001b[37m\u001b[0m \u001b[1m5s\u001b[0m 83ms/step - accuracy: 0.9513 - loss: 0.1314 - val_accuracy: 0.9249 - val_loss: 0.2648\n",
            "Epoch 37/50\n",
            "\u001b[1m65/65\u001b[0m \u001b[32m━━━━━━━━━━━━━━━━━━━━\u001b[0m\u001b[37m\u001b[0m \u001b[1m5s\u001b[0m 82ms/step - accuracy: 0.9485 - loss: 0.1359 - val_accuracy: 0.9075 - val_loss: 0.2557\n",
            "Epoch 38/50\n",
            "\u001b[1m65/65\u001b[0m \u001b[32m━━━━━━━━━━━━━━━━━━━━\u001b[0m\u001b[37m\u001b[0m \u001b[1m5s\u001b[0m 80ms/step - accuracy: 0.9413 - loss: 0.1584 - val_accuracy: 0.9326 - val_loss: 0.2029\n",
            "Epoch 39/50\n",
            "\u001b[1m65/65\u001b[0m \u001b[32m━━━━━━━━━━━━━━━━━━━━\u001b[0m\u001b[37m\u001b[0m \u001b[1m5s\u001b[0m 79ms/step - accuracy: 0.9578 - loss: 0.1151 - val_accuracy: 0.9287 - val_loss: 0.2468\n",
            "Epoch 40/50\n",
            "\u001b[1m65/65\u001b[0m \u001b[32m━━━━━━━━━━━━━━━━━━━━\u001b[0m\u001b[37m\u001b[0m \u001b[1m5s\u001b[0m 79ms/step - accuracy: 0.9501 - loss: 0.1224 - val_accuracy: 0.9441 - val_loss: 0.1932\n",
            "Epoch 41/50\n",
            "\u001b[1m65/65\u001b[0m \u001b[32m━━━━━━━━━━━━━━━━━━━━\u001b[0m\u001b[37m\u001b[0m \u001b[1m5s\u001b[0m 81ms/step - accuracy: 0.9648 - loss: 0.1022 - val_accuracy: 0.9538 - val_loss: 0.1914\n",
            "Epoch 42/50\n",
            "\u001b[1m65/65\u001b[0m \u001b[32m━━━━━━━━━━━━━━━━━━━━\u001b[0m\u001b[37m\u001b[0m \u001b[1m5s\u001b[0m 81ms/step - accuracy: 0.9783 - loss: 0.0707 - val_accuracy: 0.9403 - val_loss: 0.1928\n",
            "Epoch 43/50\n",
            "\u001b[1m65/65\u001b[0m \u001b[32m━━━━━━━━━━━━━━━━━━━━\u001b[0m\u001b[37m\u001b[0m \u001b[1m5s\u001b[0m 82ms/step - accuracy: 0.9755 - loss: 0.0722 - val_accuracy: 0.9403 - val_loss: 0.1844\n",
            "Epoch 44/50\n",
            "\u001b[1m65/65\u001b[0m \u001b[32m━━━━━━━━━━━━━━━━━━━━\u001b[0m\u001b[37m\u001b[0m \u001b[1m5s\u001b[0m 81ms/step - accuracy: 0.9658 - loss: 0.0941 - val_accuracy: 0.9383 - val_loss: 0.2614\n",
            "Epoch 45/50\n",
            "\u001b[1m65/65\u001b[0m \u001b[32m━━━━━━━━━━━━━━━━━━━━\u001b[0m\u001b[37m\u001b[0m \u001b[1m5s\u001b[0m 80ms/step - accuracy: 0.9566 - loss: 0.1036 - val_accuracy: 0.9249 - val_loss: 0.2618\n",
            "Epoch 46/50\n",
            "\u001b[1m65/65\u001b[0m \u001b[32m━━━━━━━━━━━━━━━━━━━━\u001b[0m\u001b[37m\u001b[0m \u001b[1m5s\u001b[0m 80ms/step - accuracy: 0.9636 - loss: 0.1175 - val_accuracy: 0.9364 - val_loss: 0.2121\n",
            "Epoch 47/50\n",
            "\u001b[1m65/65\u001b[0m \u001b[32m━━━━━━━━━━━━━━━━━━━━\u001b[0m\u001b[37m\u001b[0m \u001b[1m5s\u001b[0m 81ms/step - accuracy: 0.9464 - loss: 0.1453 - val_accuracy: 0.8266 - val_loss: 0.4470\n",
            "Epoch 48/50\n",
            "\u001b[1m65/65\u001b[0m \u001b[32m━━━━━━━━━━━━━━━━━━━━\u001b[0m\u001b[37m\u001b[0m \u001b[1m5s\u001b[0m 81ms/step - accuracy: 0.9146 - loss: 0.2108 - val_accuracy: 0.9422 - val_loss: 0.1909\n",
            "Epoch 49/50\n",
            "\u001b[1m65/65\u001b[0m \u001b[32m━━━━━━━━━━━━━━━━━━━━\u001b[0m\u001b[37m\u001b[0m \u001b[1m5s\u001b[0m 82ms/step - accuracy: 0.9675 - loss: 0.0879 - val_accuracy: 0.9403 - val_loss: 0.2041\n",
            "Epoch 50/50\n",
            "\u001b[1m65/65\u001b[0m \u001b[32m━━━━━━━━━━━━━━━━━━━━\u001b[0m\u001b[37m\u001b[0m \u001b[1m5s\u001b[0m 78ms/step - accuracy: 0.9784 - loss: 0.0705 - val_accuracy: 0.9461 - val_loss: 0.2146\n",
            "\u001b[1m21/21\u001b[0m \u001b[32m━━━━━━━━━━━━━━━━━━━━\u001b[0m\u001b[37m\u001b[0m \u001b[1m1s\u001b[0m 26ms/step - accuracy: 0.9092 - loss: 0.2536\n"
          ]
        },
        {
          "data": {
            "image/png": "[encoded data removed]",
            "text/plain": [
              "<Figure size 640x480 with 1 Axes>"
            ]
          },
          "metadata": {},
          "output_type": "display_data"
        }
      ],
      "source": [
        "model = Sequential([\n",
        "    Conv2D(32, (3, 3), activation='relu', input_shape=(image_size[0], image_size[1], 3)),\n",
        "    MaxPooling2D((2, 2)),\n",
        "    Conv2D(64, (3, 3), activation='relu'),\n",
        "    MaxPooling2D((2, 2)),\n",
        "    Conv2D(128, (3, 3), activation='relu'),\n",
        "    MaxPooling2D((2, 2)),\n",
        "    Flatten(),\n",
        "    Dense(128, activation='relu'),\n",
        "    Dropout(0.5),\n",
        "    Dense(num_classes, activation='softmax')\n",
        "])\n",
        "\n",
        "model.compile(optimizer='adam', loss='categorical_crossentropy', metrics=['accuracy'])\n",
        "model.summary()\n",
        "epoca = 40\n",
        "hist = model.fit(train_images, train_labels, epochs=epoca, batch_size=32, validation_split=0.2)\n",
        "test_loss, test_accuracy = model.evaluate(test_images, test_labels)\n",
        "\n",
        "train_loss = hist.history['loss']\n",
        "val_loss = hist.history['val_loss']\n",
        "\n",
        "# Crear un rango de épocas\n",
        "epochs_range = range(1, epoca + 1)\n",
        "\n",
        "# Graficar la pérdida de entrenamiento y validación\n",
        "plt.plot(epochs_range, train_loss, 'b', label='Training loss')\n",
        "plt.plot(epochs_range, val_loss, 'r', label='Validation loss')\n",
        "plt.title('Training and Validation Loss')\n",
        "plt.xlabel('Epochs')\n",
        "plt.ylabel('Loss')\n",
        "plt.legend()\n",
        "plt.show()"
      ]
    },
    {
      "cell_type": "markdown",
      "id": "9bf38733-aad0-4dfd-976c-6af8771cc622",
      "metadata": {
        "id": "9bf38733-aad0-4dfd-976c-6af8771cc622"
      },
      "source": [
        "#### Veient que el KNN es el que millors resultats aporta a la classificació multiclasse, ara miraren d'aplicar un data augmentation pertal d'intentar millorar encara més el classificador"
      ]
    },
    {
      "cell_type": "code",
      "execution_count": null,
      "id": "d8097180-a4a9-4206-8024-2ac035527d7a",
      "metadata": {
        "id": "d8097180-a4a9-4206-8024-2ac035527d7a",
        "outputId": "1dae2930-6346-4904-e3d1-387955861dc7",
        "colab": {
          "base_uri": "https://localhost:8080/"
        }
      },
      "outputs": [
        {
          "output_type": "stream",
          "name": "stdout",
          "text": [
            "Tamaño del dataset final: 855\n"
          ]
        }
      ],
      "source": [
        "import numpy as np\n",
        "import tensorflow as tf\n",
        "from functools import reduce\n",
        "\n",
        "# Supongamos que estas son las imágenes leídas\n",
        "benignes = np.random.rand(512, 28, 28, 3)  # Ejemplo de imágenes con etiqueta 'benign'\n",
        "proB = np.random.rand(812, 28, 28, 3)      # Ejemplo de imágenes con etiqueta 'proB'\n",
        "preB = np.random.rand(300, 28, 28, 3)      # Ejemplo de imágenes con etiqueta 'preB'\n",
        "early_preB = np.random.rand(200, 28, 28, 3) # Ejemplo de imágenes con etiqueta 'early_preB'\n",
        "\n",
        "# Crear arrays de etiquetas\n",
        "labels_benign = np.full(len(benignes), 'benign')\n",
        "labels_proB = np.full(len(proB), 'proB')\n",
        "labels_preB = np.full(len(preB), 'preB')\n",
        "labels_early_preB = np.full(len(early_preB), 'early_preB')\n",
        "\n",
        "# Concatenar las imágenes y las etiquetas\n",
        "images = np.concatenate((benignes, proB, preB, early_preB), axis=0)\n",
        "labels = np.concatenate((labels_benign, labels_proB, labels_preB, labels_early_preB))\n",
        "\n",
        "# Crear un dataset de TensorFlow\n",
        "dataset = tf.data.Dataset.from_tensor_slices((images, labels))\n",
        "\n",
        "# Función para aplicar augmentaciones\n",
        "def augment(image, label):\n",
        "    image = tf.image.random_flip_left_right(image)\n",
        "    image = tf.image.random_flip_up_down(image)\n",
        "    image = tf.image.rot90(image, k=3)\n",
        "    return image, label\n",
        "\n",
        "# Duplicar el dataset varias veces para aumentar el número de ejemplos\n",
        "repeats = 15  # Número de veces que se duplicará el dataset\n",
        "augmented_datasets = [dataset.map(augment, num_parallel_calls=tf.data.AUTOTUNE) for _ in range(repeats)]\n",
        "\n",
        "# Concatenar todos los datasets aumentados usando reduce\n",
        "augmented_dataset = reduce(lambda d1, d2: d1.concatenate(d2), augmented_datasets)\n",
        "\n",
        "# Configurar el dataset para que esté listo para el entrenamiento\n",
        "batch_size = 32\n",
        "augmented_dataset = augmented_dataset.shuffle(buffer_size=1000).batch(batch_size).prefetch(buffer_size=tf.data.AUTOTUNE)\n",
        "\n",
        "# Verificar el tamaño del dataset final\n",
        "dataset_size = sum(1 for _ in augmented_dataset)\n",
        "print(f'Tamaño del dataset final(porción): {dataset_size}')\n"
      ]
    },
    {
      "cell_type": "code",
      "execution_count": null,
      "id": "253bafbb-b943-4b82-a0db-601d34402dde",
      "metadata": {
        "id": "253bafbb-b943-4b82-a0db-601d34402dde",
        "outputId": "d37accf7-309b-4160-c5a3-0885bcefea5c",
        "colab": {
          "base_uri": "https://localhost:8080/"
        }
      },
      "outputs": [
        {
          "output_type": "stream",
          "name": "stdout",
          "text": [
            "Epoch 1/50\n",
            "342/342 [==============================] - 28s 77ms/step - loss: 1.2634 - accuracy: 0.4416 - val_loss: 1.2570 - val_accuracy: 0.4543\n",
            "Epoch 2/50\n",
            "342/342 [==============================] - 36s 106ms/step - loss: 1.2531 - accuracy: 0.4431 - val_loss: 1.2440 - val_accuracy: 0.4543\n",
            "Epoch 3/50\n",
            "342/342 [==============================] - 24s 70ms/step - loss: 1.0999 - accuracy: 0.5376 - val_loss: 0.9806 - val_accuracy: 0.6160\n",
            "Epoch 4/50\n",
            "342/342 [==============================] - 23s 66ms/step - loss: 0.7734 - accuracy: 0.7182 - val_loss: 0.7918 - val_accuracy: 0.7118\n",
            "Epoch 5/50\n",
            "342/342 [==============================] - 24s 71ms/step - loss: 0.5518 - accuracy: 0.8120 - val_loss: 0.6608 - val_accuracy: 0.7833\n",
            "Epoch 6/50\n",
            "342/342 [==============================] - 22s 65ms/step - loss: 0.4004 - accuracy: 0.8697 - val_loss: 0.5383 - val_accuracy: 0.8332\n",
            "Epoch 7/50\n",
            "342/342 [==============================] - 35s 102ms/step - loss: 0.2999 - accuracy: 0.9080 - val_loss: 0.4729 - val_accuracy: 0.8642\n",
            "Epoch 8/50\n",
            "342/342 [==============================] - 24s 70ms/step - loss: 0.2240 - accuracy: 0.9345 - val_loss: 0.4197 - val_accuracy: 0.8960\n",
            "Epoch 9/50\n",
            "342/342 [==============================] - 24s 69ms/step - loss: 0.1691 - accuracy: 0.9505 - val_loss: 0.3814 - val_accuracy: 0.9158\n",
            "Epoch 10/50\n",
            "342/342 [==============================] - 48s 141ms/step - loss: 0.1369 - accuracy: 0.9596 - val_loss: 0.3834 - val_accuracy: 0.9170\n",
            "Epoch 11/50\n",
            "342/342 [==============================] - 28s 80ms/step - loss: 0.1117 - accuracy: 0.9672 - val_loss: 0.3988 - val_accuracy: 0.9148\n",
            "Epoch 12/50\n",
            "342/342 [==============================] - 24s 71ms/step - loss: 0.0895 - accuracy: 0.9743 - val_loss: 0.3600 - val_accuracy: 0.9344\n",
            "Epoch 13/50\n",
            "342/342 [==============================] - 22s 65ms/step - loss: 0.0785 - accuracy: 0.9763 - val_loss: 0.3800 - val_accuracy: 0.9386\n",
            "Epoch 14/50\n",
            "342/342 [==============================] - 24s 71ms/step - loss: 0.0862 - accuracy: 0.9726 - val_loss: 0.3971 - val_accuracy: 0.9331\n",
            "Epoch 15/50\n",
            "342/342 [==============================] - 24s 69ms/step - loss: 0.0784 - accuracy: 0.9747 - val_loss: 0.3408 - val_accuracy: 0.9393\n",
            "Epoch 16/50\n",
            "342/342 [==============================] - 23s 69ms/step - loss: 0.0621 - accuracy: 0.9802 - val_loss: 0.3573 - val_accuracy: 0.9461\n",
            "Epoch 17/50\n",
            "342/342 [==============================] - 22s 66ms/step - loss: 0.0440 - accuracy: 0.9872 - val_loss: 0.3382 - val_accuracy: 0.9538\n",
            "Epoch 18/50\n",
            "342/342 [==============================] - 24s 69ms/step - loss: 0.0739 - accuracy: 0.9758 - val_loss: 0.3456 - val_accuracy: 0.9488\n",
            "Epoch 19/50\n",
            "342/342 [==============================] - 23s 66ms/step - loss: 0.0629 - accuracy: 0.9793 - val_loss: 0.3550 - val_accuracy: 0.9477\n",
            "Epoch 20/50\n",
            "342/342 [==============================] - 37s 110ms/step - loss: 0.0489 - accuracy: 0.9841 - val_loss: 0.3553 - val_accuracy: 0.9529\n",
            "Epoch 21/50\n",
            "342/342 [==============================] - 22s 65ms/step - loss: 0.0448 - accuracy: 0.9844 - val_loss: 0.3894 - val_accuracy: 0.9488\n",
            "Epoch 22/50\n",
            "342/342 [==============================] - 25s 74ms/step - loss: 0.0481 - accuracy: 0.9841 - val_loss: 0.3869 - val_accuracy: 0.9454\n",
            "Epoch 23/50\n",
            "342/342 [==============================] - 23s 66ms/step - loss: 0.0502 - accuracy: 0.9840 - val_loss: 0.3920 - val_accuracy: 0.9490\n",
            "Epoch 24/50\n",
            "342/342 [==============================] - 24s 71ms/step - loss: 0.0471 - accuracy: 0.9841 - val_loss: 0.3694 - val_accuracy: 0.9518\n",
            "Epoch 25/50\n",
            "342/342 [==============================] - 22s 65ms/step - loss: 0.0565 - accuracy: 0.9817 - val_loss: 0.3582 - val_accuracy: 0.9521\n",
            "Epoch 26/50\n",
            "342/342 [==============================] - 24s 71ms/step - loss: 0.0392 - accuracy: 0.9871 - val_loss: 0.3654 - val_accuracy: 0.9638\n",
            "Epoch 27/50\n",
            "342/342 [==============================] - 22s 64ms/step - loss: 0.0418 - accuracy: 0.9865 - val_loss: 0.3999 - val_accuracy: 0.9512\n",
            "Epoch 28/50\n",
            "342/342 [==============================] - 25s 72ms/step - loss: 0.0490 - accuracy: 0.9834 - val_loss: 0.3881 - val_accuracy: 0.9550\n",
            "Epoch 29/50\n",
            "342/342 [==============================] - 22s 64ms/step - loss: 0.0405 - accuracy: 0.9862 - val_loss: 0.3659 - val_accuracy: 0.9589\n",
            "Epoch 30/50\n",
            "342/342 [==============================] - 25s 72ms/step - loss: 0.0215 - accuracy: 0.9935 - val_loss: 0.3844 - val_accuracy: 0.9636\n",
            "Epoch 31/50\n",
            "342/342 [==============================] - 23s 68ms/step - loss: 0.0271 - accuracy: 0.9908 - val_loss: 0.5213 - val_accuracy: 0.9353\n",
            "Epoch 32/50\n",
            "342/342 [==============================] - 24s 71ms/step - loss: 0.0715 - accuracy: 0.9753 - val_loss: 0.3905 - val_accuracy: 0.9430\n",
            "Epoch 33/50\n",
            "342/342 [==============================] - 22s 64ms/step - loss: 0.0382 - accuracy: 0.9871 - val_loss: 0.3683 - val_accuracy: 0.9622\n",
            "Epoch 34/50\n",
            "342/342 [==============================] - 24s 71ms/step - loss: 0.0176 - accuracy: 0.9943 - val_loss: 0.3764 - val_accuracy: 0.9658\n",
            "Epoch 35/50\n",
            "342/342 [==============================] - 22s 64ms/step - loss: 0.0155 - accuracy: 0.9951 - val_loss: 0.3823 - val_accuracy: 0.9664\n",
            "Epoch 36/50\n",
            "342/342 [==============================] - 25s 73ms/step - loss: 0.0502 - accuracy: 0.9829 - val_loss: 0.4156 - val_accuracy: 0.9412\n",
            "Epoch 37/50\n",
            "342/342 [==============================] - 22s 64ms/step - loss: 0.0516 - accuracy: 0.9810 - val_loss: 0.4152 - val_accuracy: 0.9452\n",
            "Epoch 38/50\n",
            "342/342 [==============================] - 24s 71ms/step - loss: 0.0321 - accuracy: 0.9891 - val_loss: 0.3506 - val_accuracy: 0.9662\n",
            "Epoch 39/50\n",
            "342/342 [==============================] - 23s 66ms/step - loss: 0.0154 - accuracy: 0.9952 - val_loss: 0.3910 - val_accuracy: 0.9682\n",
            "Epoch 40/50\n",
            "342/342 [==============================] - 25s 72ms/step - loss: 0.0123 - accuracy: 0.9956 - val_loss: 0.4205 - val_accuracy: 0.9587\n",
            "Epoch 41/50\n",
            "342/342 [==============================] - 22s 64ms/step - loss: 0.0587 - accuracy: 0.9799 - val_loss: 0.4085 - val_accuracy: 0.9541\n",
            "Epoch 42/50\n",
            "342/342 [==============================] - 24s 71ms/step - loss: 0.0293 - accuracy: 0.9899 - val_loss: 0.3638 - val_accuracy: 0.9585\n",
            "Epoch 43/50\n",
            "342/342 [==============================] - 22s 64ms/step - loss: 0.0179 - accuracy: 0.9939 - val_loss: 0.4451 - val_accuracy: 0.9519\n",
            "Epoch 44/50\n",
            "342/342 [==============================] - 24s 70ms/step - loss: 0.0470 - accuracy: 0.9836 - val_loss: 0.4010 - val_accuracy: 0.9543\n",
            "Epoch 45/50\n",
            "342/342 [==============================] - 22s 63ms/step - loss: 0.0350 - accuracy: 0.9873 - val_loss: 0.3780 - val_accuracy: 0.9627\n",
            "Epoch 46/50\n",
            "342/342 [==============================] - 24s 71ms/step - loss: 0.0128 - accuracy: 0.9960 - val_loss: 0.4402 - val_accuracy: 0.9688\n",
            "Epoch 47/50\n",
            "342/342 [==============================] - 22s 64ms/step - loss: 0.0028 - accuracy: 0.9994 - val_loss: 0.4270 - val_accuracy: 0.9711\n",
            "Epoch 48/50\n",
            "342/342 [==============================] - 25s 74ms/step - loss: 8.8750e-04 - accuracy: 0.9999 - val_loss: 0.4205 - val_accuracy: 0.9720\n",
            "Epoch 49/50\n",
            "342/342 [==============================] - 22s 64ms/step - loss: 5.5827e-04 - accuracy: 1.0000 - val_loss: 0.4523 - val_accuracy: 0.9728\n",
            "Epoch 50/50\n",
            "342/342 [==============================] - 24s 71ms/step - loss: 7.2133e-04 - accuracy: 1.0000 - val_loss: 0.4473 - val_accuracy: 0.9726\n",
            "171/171 [==============================] - 2s 9ms/step - loss: 0.4473 - accuracy: 0.9726\n",
            "Precisión del modelo en el conjunto de prueba: 0.9725877046585083\n"
          ]
        }
      ],
      "source": [
        "import numpy as np\n",
        "import tensorflow as tf\n",
        "from sklearn.model_selection import train_test_split\n",
        "from sklearn.preprocessing import LabelEncoder\n",
        "\n",
        "# Convertir el dataset de TensorFlow a arrays de NumPy\n",
        "def dataset_to_numpy(dataset):\n",
        "    images, labels = [], []\n",
        "    for image, label in dataset:\n",
        "        images.append(image.numpy())\n",
        "        labels.append(label.numpy().decode('utf-8'))\n",
        "    return np.array(images), np.array(labels)\n",
        "\n",
        "# Convertir el dataset aumentado a NumPy\n",
        "augmented_images, augmented_labels = dataset_to_numpy(augmented_dataset.unbatch())\n",
        "\n",
        "# Codificar las etiquetas como enteros\n",
        "label_encoder = LabelEncoder()\n",
        "augmented_labels_encoded = label_encoder.fit_transform(augmented_labels)\n",
        "\n",
        "# Dividir los datos en conjuntos de entrenamiento y prueba\n",
        "X_train, X_test, y_train, y_test = train_test_split(augmented_images, augmented_labels_encoded, test_size=0.2, random_state=42)\n",
        "\n",
        "# Crear el modelo CNN\n",
        "model = tf.keras.Sequential([\n",
        "    tf.keras.layers.Conv2D(32, (3, 3), activation='relu', input_shape=(28, 28, 3)),\n",
        "    tf.keras.layers.MaxPooling2D((2, 2)),\n",
        "    tf.keras.layers.Conv2D(64, (3, 3), activation='relu'),\n",
        "    tf.keras.layers.MaxPooling2D((2, 2)),\n",
        "    tf.keras.layers.Conv2D(128, (3, 3), activation='relu'),\n",
        "    tf.keras.layers.Flatten(),\n",
        "    tf.keras.layers.Dense(128, activation='relu'),\n",
        "    tf.keras.layers.Dense(4, activation='softmax')  # 4 clases\n",
        "])\n",
        "\n",
        "# Compilar el modelo\n",
        "model.compile(optimizer='adam',\n",
        "              loss='sparse_categorical_crossentropy',\n",
        "              metrics=['accuracy'])\n",
        "\n",
        "# Entrenar el modelo\n",
        "model.fit(X_train, y_train, epochs=50, batch_size=64, validation_data=(X_test, y_test))\n",
        "\n",
        "# Evaluar el modelo\n",
        "test_loss, test_acc = model.evaluate(X_test, y_test)\n",
        "print(f'Precisión del modelo en el conjunto de prueba: {test_acc}')\n"
      ]
    },
    {
      "cell_type": "code",
      "source": [
        "from sklearn.metrics import confusion_matrix, ConfusionMatrixDisplay\n",
        "test_predictions_cnn = model.predict(X_test)\n",
        "cm = confusion_matrix(y_test, test_predictions_cnn, labels=model.classes_)\n",
        "disp = ConfusionMatrixDisplay(confusion_matrix=cm, display_labels=model.classes_)\n",
        "\n",
        "\n",
        "fig, ax = plt.subplots(figsize=(10, 10))\n",
        "disp.plot(ax=ax)\n",
        "plt.show()"
      ],
      "metadata": {
        "id": "QNHLVFhXL0aj"
      },
      "id": "QNHLVFhXL0aj",
      "execution_count": null,
      "outputs": []
    },
    {
      "cell_type": "markdown",
      "id": "4ce2f2e6-073f-4298-a77d-6cf56f55d411",
      "metadata": {
        "id": "4ce2f2e6-073f-4298-a77d-6cf56f55d411"
      },
      "source": [
        "#### Ligth GBM"
      ]
    },
    {
      "cell_type": "code",
      "execution_count": null,
      "id": "4ce6007c-8a51-4154-b8e5-3a7181cc0cc5",
      "metadata": {
        "id": "4ce6007c-8a51-4154-b8e5-3a7181cc0cc5",
        "colab": {
          "base_uri": "https://localhost:8080/"
        },
        "outputId": "1062f72e-e8a4-47bd-9934-e62898a4ff71"
      },
      "outputs": [
        {
          "output_type": "stream",
          "name": "stdout",
          "text": [
            "Training until validation scores don't improve for 10 rounds\n",
            "Early stopping, best iteration is:\n",
            "[28]\ttraining's multi_logloss: 0.0113513\tvalid_1's multi_logloss: 0.87767\n",
            "Test Accuracy with LightGBM: 0.6414634146341464\n",
            "              precision    recall  f1-score   support\n",
            "\n",
            "           0       0.55      0.48      0.52        97\n",
            "           1       0.68      0.71      0.70       103\n",
            "           2       0.64      0.57      0.60       113\n",
            "           3       0.67      0.81      0.73        97\n",
            "\n",
            "    accuracy                           0.64       410\n",
            "   macro avg       0.64      0.64      0.64       410\n",
            "weighted avg       0.64      0.64      0.64       410\n",
            "\n"
          ]
        }
      ],
      "source": [
        "import lightgbm as lgb\n",
        "from sklearn.preprocessing import LabelEncoder\n",
        "from sklearn.metrics import accuracy_score\n",
        "import numpy as np\n",
        "import pandas as pd\n",
        "\n",
        "\n",
        "\n",
        "label_encoder = LabelEncoder()\n",
        "train_labels_encoded = label_encoder.fit_transform(train_labels)\n",
        "test_labels_encoded = label_encoder.transform(test_labels)\n",
        "\n",
        "\n",
        "lgb_train = lgb.Dataset(train_features, train_labels_encoded)\n",
        "lgb_test = lgb.Dataset(test_features, test_labels_encoded, reference=lgb_train)\n",
        "\n",
        "# Parametres\n",
        "params = {\n",
        "    'objective': 'multiclass',\n",
        "    'num_class': len(np.unique(train_labels_encoded)),  #Nº de classes\n",
        "    'metric': 'multi_logloss', #Metricac\n",
        "    'verbosity': -1,  #logs\n",
        "    'boosting_type': 'gbdt',  # Gradient Boosting Decision Tree\n",
        "    'num_leaves': 31,  # Nº de fulles\n",
        "    'learning_rate': 0.25,  # Learning rate\n",
        "    'feature_fraction': 0.9,  # Selecció random del 90% de features per entrenar cada arbre\n",
        "    'bagging_fraction': 0.8,  # Selecció random del 90% de dades per entrenar cada arbre\n",
        "    'bagging_freq': 5,  # Fer bagging cada 5 iterations\n",
        "    'seed': 42  # Random seed\n",
        "}\n",
        "\n",
        "\n",
        "num_round = 1000\n",
        "\n",
        "bst = lgb.train(\n",
        "    params,\n",
        "    lgb_train,\n",
        "    num_boost_round=num_round,\n",
        "    valid_sets=[lgb_train, lgb_test],\n",
        "    callbacks=[lgb.early_stopping(stopping_rounds=10)]\n",
        ")\n",
        "\n",
        "\n",
        "lgb_pred = bst.predict(test_features, num_iteration=bst.best_iteration)\n",
        "lgb_pred = [np.argmax(pred) for pred in lgb_pred]\n",
        "\n",
        "test_accuracy_lgb = accuracy_score(test_labels_encoded, lgb_pred)\n",
        "print(\"Test Accuracy with LightGBM:\", test_accuracy_lgb)\n",
        "print(classification_report(test_labels_encoded, lgb_pred))"
      ]
    },
    {
      "cell_type": "code",
      "execution_count": null,
      "id": "d8410e62-90b9-4023-8de1-bef32e4ab22b",
      "metadata": {
        "id": "d8410e62-90b9-4023-8de1-bef32e4ab22b"
      },
      "outputs": [],
      "source": []
    }
  ],
  "metadata": {
    "colab": {
      "provenance": []
    },
    "kernelspec": {
      "display_name": "Python 3 (ipykernel)",
      "language": "python",
      "name": "python3"
    },
    "language_info": {
      "codemirror_mode": {
        "name": "ipython",
        "version": 3
      },
      "file_extension": ".py",
      "mimetype": "text/x-python",
      "name": "python",
      "nbconvert_exporter": "python",
      "pygments_lexer": "ipython3",
      "version": "3.11.3"
    }
  },
  "nbformat": 4,
  "nbformat_minor": 5
}